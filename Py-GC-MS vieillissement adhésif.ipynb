{
 "cells": [
  {
   "cell_type": "code",
   "execution_count": null,
   "id": "985d20e0-d0b6-41ac-8b53-0ea33aa22e25",
   "metadata": {
    "tags": []
   },
   "outputs": [],
   "source": [
    "import numpy as np\n",
    "import pandas as pd\n",
    "import os\n",
    "import re\n",
    "from scipy.signal import find_peaks\n",
    "import matplotlib.pyplot as plt\n",
    "import matplotlib.cm as cm\n",
    "import csv\n",
    "\n",
    "# Paramétrage de l'affichage des dataframes\n",
    "pd.set_option('display.max_columns', 12)\n",
    "pd.set_option('display.max_rows', None)"
   ]
  },
  {
   "cell_type": "code",
   "execution_count": null,
   "id": "3d46c152-ccd6-4ff5-85ac-94db6806fdfe",
   "metadata": {
    "tags": []
   },
   "outputs": [],
   "source": [
    "# Détermination du temps de vieillissement à partir du nom de fichier\n",
    "def age(parameters):\n",
    "    compound_mapping = {\n",
    "        '240208': 349,\n",
    "        '240308': 378,\n",
    "        '240405': 406,\n",
    "        '240503': 434,\n",
    "        '240607': 462,\n",
    "        'frais': 0\n",
    "    }\n",
    "    \n",
    "    for key, value in compound_mapping.items():\n",
    "        if key in parameters:\n",
    "            return value\n",
    "    return 0\n",
    "\n",
    "print(\"done\")"
   ]
  },
  {
   "cell_type": "code",
   "execution_count": null,
   "id": "481ba819-8743-460f-9e07-5c9a5e6a7868",
   "metadata": {
    "tags": []
   },
   "outputs": [],
   "source": [
    "# Indiquer l'emplacement des données\n",
    "directory =\n",
    "\n",
    "dataframes = []\n",
    "tapes = []\n",
    "ages = []\n",
    "filenames = []\n",
    "\n",
    "for filename in os.listdir(directory):\n",
    "    if filename.endswith('.txt'):\n",
    "        file_path = os.path.join(directory, filename)\n",
    "        \n",
    "        try:\n",
    "            df = pd.read_csv(file_path, skiprows=12, delimiter='\\t', names=['Ret.Time', 'Absolute Intensity', 'Relative Intensity'], \n",
    "                             dtype={'Ret.Time': float, 'Absolute Intensity': int, 'Relative Intensity': float}, \n",
    "                             index_col='Ret.Time', decimal=',', encoding='utf-8')\n",
    "        except UnicodeDecodeError:\n",
    "            try:\n",
    "                df = pd.read_csv(file_path, skiprows=12, delimiter='\\t', names=['Ret.Time', 'Absolute Intensity', 'Relative Intensity'], \n",
    "                                 dtype={'Ret.Time': float, 'Absolute Intensity': int, 'Relative Intensity': float}, \n",
    "                                 index_col='Ret.Time', decimal=',', encoding='latin1')\n",
    "            except UnicodeDecodeError:\n",
    "                df = pd.read_csv(file_path, skiprows=12, delimiter='\\t', names=['Ret.Time', 'Absolute Intensity', 'Relative Intensity'], \n",
    "                                 dtype={'Ret.Time': float, 'Absolute Intensity': int, 'Relative Intensity': float}, \n",
    "                                 index_col='Ret.Time', decimal=',', encoding='cp1252')\n",
    "\n",
    "        parameters = re.split(r'[-._ ]', filename)\n",
    "        tapes.append(parameters[0])\n",
    "        ages.append(age(parameters[-2]))\n",
    "        filenames.append(filename)\n",
    "        dataframes.append(df)\n",
    "\n",
    "data = pd.concat(dataframes, axis=1)\n",
    "data = data.loc[:, ~data.columns.str.contains('Relative Intensity')]\n",
    "data = data.T.reset_index(drop=True).rename_axis('Index')\n",
    "\n",
    "data['tape'] = tapes\n",
    "data['age'] = ages\n",
    "data['file name'] = filenames\n",
    "\n",
    "cols = list(data.columns)\n",
    "cols = ['tape'] + [col for col in cols if col != 'tape']\n",
    "data = data[cols]\n",
    "\n",
    "data.sort_values(by=['tape', 'age'], inplace=True)\n",
    "data.reset_index(drop=True, inplace=True)\n",
    "\n",
    "data"
   ]
  },
  {
   "cell_type": "code",
   "execution_count": null,
   "id": "db542bfe-ee23-4dba-8549-10d68b30a8ef",
   "metadata": {
    "tags": []
   },
   "outputs": [],
   "source": [
    "# Les données n'étant pas rigoureusement collectées touttes les 0.001 min,\n",
    "# seules les colonnes finissant en 0.000 ou 0.005 sont conservées,\n",
    "# afin de permettre de décaler les chromato pour les supperposer\n",
    "selected_columns = [col for col in data.columns[1:-2] if str(col).endswith(('5', '0'))]\n",
    "data_selected = data.loc[:, ['tape'] + list(selected_columns) + ['age', 'file name']]\n",
    "\n",
    "data_selected"
   ]
  },
  {
   "cell_type": "code",
   "execution_count": null,
   "id": "6e05b07e-7484-4b5e-9087-c0669d2bfef9",
   "metadata": {
    "tags": []
   },
   "outputs": [],
   "source": [
    "# Représente le chromatogramme, avec possibilité de réduire la plage temporelle,\n",
    "# Permet de déterminer les limites de l'axe y\n",
    "def plot_TIC(data_plot_spectra, start_time=None, end_time=None, found_tr=None, y_limit_top=None, y_limit_down=None, figsize=(12, 4)):\n",
    "    Tr = data_plot_spectra.columns[1:-3].astype(float)\n",
    "    data_to_plot = data_plot_spectra.values[:, 1:-3]\n",
    "\n",
    "    if start_time is not None:\n",
    "        start_idx = np.searchsorted(Tr, start_time, side='left')\n",
    "    else:\n",
    "        start_idx = 0\n",
    "\n",
    "    if end_time is not None:\n",
    "        end_idx = np.searchsorted(Tr, end_time, side='right')\n",
    "    else:\n",
    "        end_idx = len(Tr)\n",
    "\n",
    "    Tr_filtered = Tr[start_idx:end_idx]\n",
    "    data_filtered = data_to_plot[:, start_idx:end_idx]\n",
    "\n",
    "    plt.figure(figsize=figsize)\n",
    "    cmap = cm.coolwarm(np.linspace(0, 0.8, len(data_filtered)))\n",
    "\n",
    "    for row in range(len(data_filtered)):\n",
    "        Int = data_filtered[row]\n",
    "        color = cmap[data_plot_spectra.shape[0]-1]\n",
    "        age = data_plot_spectra.values[row, data_plot_spectra.columns.get_loc('age')]\n",
    "        if age == 0:\n",
    "            color = 'black'\n",
    "            label = 'Age: 0'\n",
    "        else:\n",
    "            label = f'Age: {age}'\n",
    "        plt.plot(Tr_filtered, Int, color=color, linestyle='-', linewidth=0.5, alpha=1, label=label)\n",
    "    \n",
    "    if found_tr is not None:\n",
    "            plt.axvline(x=found_tr, color='black', linestyle='--', linewidth=1, label=f'Found TR: {found_tr}')\n",
    "    \n",
    "    if y_limit_top is not None:\n",
    "        plt.ylim(y_limit_down, y_limit_top)\n",
    "    \n",
    "    plt.xlabel('Temps de rétention (min)')\n",
    "    plt.ylabel('Intensité')\n",
    "    plt.show()"
   ]
  },
  {
   "cell_type": "code",
   "execution_count": null,
   "id": "9cc1d407-934f-4fcb-9a6e-052e6767b34c",
   "metadata": {
    "tags": []
   },
   "outputs": [],
   "source": [
    "data_raa12 = data[data[\"tape\"]==\"raa12\"]\n",
    "data_raa13 = data[data[\"tape\"]==\"raa13\"]\n",
    "data_raa14 = data[data[\"tape\"]==\"raa14\"]\n",
    "data_raa15 = data[data[\"tape\"]==\"raa15\"]\n",
    "data_raa16 = data[data[\"tape\"]==\"raa16\"]\n",
    "\n",
    "\n",
    "plot_TIC(data_raa12, 1.1, 38)\n",
    "plot_TIC(data_raa13, 1.1, 38)\n",
    "plot_TIC(data_raa14, 1.1, 38)\n",
    "plot_TIC(data_raa15, 1.1, 38)\n",
    "plot_TIC(data_raa16, 1.1, 38)"
   ]
  },
  {
   "cell_type": "code",
   "execution_count": null,
   "id": "2460bbdb-b828-4e94-a7b8-97661bb3427f",
   "metadata": {
    "tags": []
   },
   "outputs": [],
   "source": [
    "# Applique un décalage verticale aux chromatrogrammes\n",
    "def v_shift(data, factor, factor2, tape):\n",
    "    data2 = data.copy()\n",
    "    numeric_columns = data.columns[2:-2]\n",
    "    if tape == 12:\n",
    "        row = 1\n",
    "    if tape == 13:\n",
    "        row = 3\n",
    "    if tape == 14:\n",
    "        row = 5\n",
    "    if tape == 15:\n",
    "        row = 7\n",
    "    if tape == 16:\n",
    "        row = 9\n",
    "    data2.loc[row, numeric_columns] = data.loc[row, numeric_columns].astype(float) * factor + factor2\n",
    "    return data2\n",
    "\n",
    "# Annexes 16, 18, 20, 22, 24\n",
    "print('RAA12')\n",
    "data_raa12_vshifted = v_shift(data_raa12, 20, 50000000, 12)\n",
    "plot_TIC(data_raa12_vshifted, 1.11, 38, y_limit_top=150000000, figsize=(12, 6))\n",
    "\n",
    "print('RAA13')\n",
    "data_raa13_vshifted = v_shift(data_raa13, 2, 20000000, 13)\n",
    "plot_TIC(data_raa13_vshifted, 1.11, 38, figsize=(12, 6))\n",
    "\n",
    "print('RAA14')\n",
    "data_raa14_vshifted = v_shift(data_raa14, 5, 30000000, 14)\n",
    "plot_TIC(data_raa14_vshifted, 1.11, 38, y_limit_top=70000000, figsize=(12, 6))\n",
    "\n",
    "print('RAA15')\n",
    "data_raa15_vshifted = v_shift(data_raa15, 2, 20000000, 15)\n",
    "plot_TIC(data_raa15_vshifted, 1.11, 38, figsize=(12, 6))\n",
    "\n",
    "print('RAA16')\n",
    "data_raa16_vshifted = v_shift(data_raa16, 2, 20000000, 16)\n",
    "plot_TIC(data_raa16_vshifted, 1.11, 38, figsize=(12, 6))"
   ]
  },
  {
   "cell_type": "markdown",
   "id": "8140deb9-f99d-4c6d-8ef1-193ee7a31d26",
   "metadata": {
    "tags": []
   },
   "source": [
    "## Plot"
   ]
  },
  {
   "cell_type": "code",
   "execution_count": null,
   "id": "b3275e88-c49b-47b2-a1f9-d54667944e09",
   "metadata": {
    "tags": []
   },
   "outputs": [],
   "source": [
    "# Figure 14\n",
    "concatenated_data = pd.concat([data_raa12_vshifted, data_raa14_vshifted], ignore_index=True)\n",
    "\n",
    "numeric_columns = concatenated_data.columns[2:-2]\n",
    "\n",
    "concatenated_data.loc[1, numeric_columns] = concatenated_data.loc[1, numeric_columns].astype(float) - 20000000\n",
    "concatenated_data.loc[2, numeric_columns] = concatenated_data.loc[2, numeric_columns].astype(float) + 80000000\n",
    "concatenated_data.loc[3, numeric_columns] = concatenated_data.loc[3, numeric_columns].astype(float) + 80000000\n",
    "\n",
    "plot_TIC(concatenated_data, 1.11, 38, y_limit_top=150000000, y_limit_down=-10000000, figsize=(12, 3))"
   ]
  },
  {
   "cell_type": "code",
   "execution_count": null,
   "id": "396d9544-42a0-4c27-bcde-8e570b3eee1b",
   "metadata": {
    "tags": []
   },
   "outputs": [],
   "source": [
    "# Figure 18\n",
    "concatenated_data = pd.concat([data_raa13_vshifted, data_raa15_vshifted, data_raa16_vshifted], ignore_index=True)\n",
    "\n",
    "numeric_columns = concatenated_data.columns[2:-2]\n",
    "\n",
    "concatenated_data.loc[1, numeric_columns] = concatenated_data.loc[1, numeric_columns].astype(float) + 0\n",
    "concatenated_data.loc[2, numeric_columns] = concatenated_data.loc[2, numeric_columns].astype(float) + 60000000\n",
    "concatenated_data.loc[3, numeric_columns] = concatenated_data.loc[3, numeric_columns].astype(float) + 60000000\n",
    "concatenated_data.loc[4, numeric_columns] = concatenated_data.loc[4, numeric_columns].astype(float) + 120000000\n",
    "concatenated_data.loc[5, numeric_columns] = concatenated_data.loc[5, numeric_columns].astype(float) + 120000000\n",
    "\n",
    "plot_TIC(concatenated_data, 1.11, 38, y_limit_top= 200000000, y_limit_down=-10000000, figsize=(12, 4))"
   ]
  },
  {
   "cell_type": "code",
   "execution_count": null,
   "id": "7c5759d3-3a79-4322-94b1-a6fa87382ccf",
   "metadata": {},
   "outputs": [],
   "source": []
  }
 ],
 "metadata": {
  "kernelspec": {
   "display_name": "Python 3 (ipykernel)",
   "language": "python",
   "name": "python3"
  },
  "language_info": {
   "codemirror_mode": {
    "name": "ipython",
    "version": 3
   },
   "file_extension": ".py",
   "mimetype": "text/x-python",
   "name": "python",
   "nbconvert_exporter": "python",
   "pygments_lexer": "ipython3",
   "version": "3.11.7"
  }
 },
 "nbformat": 4,
 "nbformat_minor": 5
}
